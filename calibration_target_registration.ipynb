{
 "cells": [
  {
   "cell_type": "code",
   "execution_count": 1,
   "metadata": {},
   "outputs": [],
   "source": [
    "import pandas as pd\n",
    "import os\n",
    "from sksurgerynditracker.nditracker import NDITracker\n",
    "import numpy as np"
   ]
  },
  {
   "cell_type": "code",
   "execution_count": 2,
   "metadata": {},
   "outputs": [],
   "source": [
    "# tool tip offset for clear pen obtained from NDI Toolbox using Pivoting\n",
    "clear_pen_tool_tip_offset = np.array([-1.62, 2.58, 17.80, 1]) \n",
    "\n",
    "# Initialize the NDI tracker\n",
    "SETTINGS = {\n",
    "    \"tracker type\": \"aurora\",\n",
    "    \"port\": \"COM3\"\n",
    "}\n",
    "tracker = NDITracker(SETTINGS)\n",
    "tracker.start_tracking()"
   ]
  },
  {
   "cell_type": "code",
   "execution_count": 3,
   "metadata": {},
   "outputs": [],
   "source": [
    "def get_tooltip_data(tool_tip_offset):\n",
    "    port_handles, timestamps, framenumbers, tracking, quality = tracker.get_frame()\n",
    "    tool_tip = np.dot(tracking[0], tool_tip_offset)\n",
    "    x_pos = tool_tip[0]\n",
    "    y_pos = tool_tip[1]\n",
    "    z_pos = tool_tip[2]\n",
    "    return x_pos, y_pos, z_pos"
   ]
  },
  {
   "cell_type": "code",
   "execution_count": 4,
   "metadata": {},
   "outputs": [],
   "source": [
    "# Load target fiducial's positions\n",
    "fcsv_file = 'MARKERS.fcsv'\n",
    "target_fiducials = pd.read_csv(\"C:\\\\Users\\\\f007wsq\\\\Desktop\\\\Calibration Protocol - Aurora\\\\Calibration Protocol\" + \"\\\\\"  + fcsv_file, comment='#', header=None)"
   ]
  },
  {
   "cell_type": "code",
   "execution_count": null,
   "metadata": {},
   "outputs": [],
   "source": [
    "real_pos = []\n",
    "i = 0\n",
    "while i < len(target_fiducials):\n",
    "    user_input = input(\"Press Enter to Collect Points：\")\n",
    "        \n",
    "    if user_input.lower() == 'Exit':\n",
    "        break\n",
    "\n",
    "    if user_input == '':  # 如果按回车键\n",
    "        x, y, z = get_tooltip_data(clear_pen_tool_tip_offset)  # 获取当前点在FG中的位置\n",
    "        if np.isnan(x) or np.isnan(y) or np.isnan(z):\n",
    "            print(\"Collect again\")\n",
    "        else:\n",
    "            real_pos.append([x, y, z])  # 保存采集的数据       \n",
    "            i = i + 1\n",
    "            print(f\"Collected Point: {i}\")\n",
    "            print(f\"Position: {x, y, z}\")\n",
    "            "
   ]
  },
  {
   "cell_type": "code",
   "execution_count": 6,
   "metadata": {},
   "outputs": [],
   "source": [
    "from scipy.spatial.transform import Rotation\n",
    "def compute_rigid_transform(P_target, P_aurora):\n",
    "    \"\"\"\n",
    "    计算从 target 坐标系到 aurora 坐标系的刚体变换 (R, T)\n",
    "    \n",
    "    :param P_target: ndarray (N,3)，target 坐标系下 fiducials 的 3D 坐标\n",
    "    :param P_aurora: ndarray (N,3)，aurora 坐标系下 fiducials 的 3D 坐标\n",
    "    :return: R (3x3 rotation matrix), T (3x1 translation vector)\n",
    "    \"\"\"\n",
    "    # 计算两个点集的质心\n",
    "    centroid_target = np.mean(P_target, axis=0)\n",
    "    centroid_aurora = np.mean(P_aurora, axis=0)\n",
    "\n",
    "    # 去中心化（中心化点集）\n",
    "    P_target_centered = P_target - centroid_target\n",
    "    P_aurora_centered = P_aurora - centroid_aurora\n",
    "\n",
    "    # 计算协方差矩阵 H\n",
    "    H = P_target_centered.T @ P_aurora_centered\n",
    "\n",
    "    # 进行 SVD 分解\n",
    "    U, _, Vt = np.linalg.svd(H)\n",
    "    \n",
    "    # 计算旋转矩阵 R\n",
    "    R = Vt.T @ U.T\n",
    "\n",
    "    # 处理可能的反射问题（保证 R 是正交矩阵，det(R) = 1）\n",
    "    if np.linalg.det(R) < 0:\n",
    "        Vt[-1, :] *= -1\n",
    "        R = Vt.T @ U.T\n",
    "\n",
    "    # 计算平移向量 T\n",
    "    T = centroid_aurora - R @ centroid_target\n",
    "\n",
    "    return R, T"
   ]
  },
  {
   "cell_type": "code",
   "execution_count": null,
   "metadata": {},
   "outputs": [],
   "source": [
    "P_target = []\n",
    "target_fiducials = np.array(target_fiducials)\n",
    "for i in range(len(target_fiducials)):\n",
    "    P_target.append(target_fiducials[i][1:4])\n",
    "P_target = np.array(P_target, dtype=np.float64)\n",
    "print(P_target)"
   ]
  },
  {
   "cell_type": "code",
   "execution_count": null,
   "metadata": {},
   "outputs": [],
   "source": [
    "P_aurora = np.array(real_pos, dtype=np.float64)\n",
    "print(P_aurora)"
   ]
  },
  {
   "cell_type": "code",
   "execution_count": 9,
   "metadata": {},
   "outputs": [],
   "source": [
    "R, T = compute_rigid_transform(P_target, P_aurora)\n"
   ]
  },
  {
   "cell_type": "code",
   "execution_count": 10,
   "metadata": {},
   "outputs": [],
   "source": [
    "R, T = compute_rigid_transform(P_target, P_aurora)\n"
   ]
  },
  {
   "cell_type": "code",
   "execution_count": 11,
   "metadata": {},
   "outputs": [],
   "source": [
    "def create_transformation_matrix(R, T):\n",
    "    \"\"\"\n",
    "    将旋转矩阵 R (3x3) 和平移向量 T (3x1) 组合成 4x4 变换矩阵\n",
    "    \"\"\"\n",
    "    transformation_matrix = np.eye(4)  # 创建一个 4x4 单位矩阵\n",
    "    transformation_matrix[:3, :3] = R  # 设置旋转部分\n",
    "    transformation_matrix[:3, 3] = T.flatten()  # 设置平移部分\n",
    "    return transformation_matrix"
   ]
  },
  {
   "cell_type": "code",
   "execution_count": null,
   "metadata": {},
   "outputs": [],
   "source": [
    "transformation_matrix = create_transformation_matrix(R, T)\n",
    "print(transformation_matrix)"
   ]
  }
 ],
 "metadata": {
  "kernelspec": {
   "display_name": "ndi",
   "language": "python",
   "name": "python3"
  },
  "language_info": {
   "codemirror_mode": {
    "name": "ipython",
    "version": 3
   },
   "file_extension": ".py",
   "mimetype": "text/x-python",
   "name": "python",
   "nbconvert_exporter": "python",
   "pygments_lexer": "ipython3",
   "version": "3.9.21"
  }
 },
 "nbformat": 4,
 "nbformat_minor": 2
}
